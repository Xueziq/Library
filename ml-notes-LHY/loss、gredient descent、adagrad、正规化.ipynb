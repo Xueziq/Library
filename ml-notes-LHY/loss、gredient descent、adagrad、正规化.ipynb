{
 "cells": [
  {
   "cell_type": "code",
   "execution_count": null,
   "metadata": {},
   "outputs": [],
   "source": [
    "import numpy as np\n",
    "\n",
    "#y = b+w*x\n",
    "\n",
    "x_data = [338., 333., 328., 207., 226., 25., 179., 60., 208., 606.]\n",
    "y_data = [640., 633., 619., 393., 428., 27., 193., 66., 226., 1591.]\n",
    "x_d = np.asarray(x_data)\n",
    "y_d = np.asarray(y_data)\n",
    "\n",
    "x = np.arange(-200,-100,1) # b\n",
    "y = np.arange(-5,5,0.1)    # w\n",
    "Z = np.zeros((len(x),len(y)))"
   ]
  },
  {
   "cell_type": "code",
   "execution_count": null,
   "metadata": {},
   "outputs": [],
   "source": [
    "#loss\n",
    "for i in range(len(x)):\n",
    "    for j in range(len(y)):\n",
    "        b = x[i]\n",
    "        w = y[j]\n",
    "        Z[j][i] = 0\n",
    "        for n in range(len(x_data)):\n",
    "            Z[j][i] += (y_data[n] - b - w * x_data[n]) ** 2\n",
    "        Z[j][i] /= len(x_data)\n",
    "print(Z)"
   ]
  },
  {
   "cell_type": "code",
   "execution_count": null,
   "metadata": {},
   "outputs": [],
   "source": [
    "#梯度下降\n",
    "b = -200\n",
    "w = -4\n",
    "lr = 0.000005           #学习步率\n",
    "iteration = 1400000     #迭代次数\n",
    "b_history = [b]\n",
    "w_history = [w]\n",
    "loss_history = []\n",
    "\n",
    "lr_b = 0\n",
    "lr_w = 0\n",
    "\n",
    "for i in range(iteration):\n",
    "    m = float(len(x_d)) \n",
    "    y_hat = w * x_d  +b\n",
    "    \n",
    "    loss = np.dot(y_d - y_hat, y_d - y_hat) / m\n",
    "    \n",
    "    grad_b = -2.0 * np.sum(y_d - y_hat) / m\n",
    "    grad_w = -2.0 * np.dot(y_d - y_hat, x_d) / m\n",
    "    \n",
    "    # update param\n",
    "    b -= lr * grad_b\n",
    "    w -= lr * grad_w\n",
    "\n",
    "    b_history.append(b)\n",
    "    w_history.append(w)\n",
    "    loss_history.append(loss)\n",
    "    if i % 100000 == 0:\n",
    "        print(\"Step %i, w: %0.4f, b: %.4f, Loss: %.4f\" % (i, w, b, loss))"
   ]
  },
  {
   "cell_type": "code",
   "execution_count": null,
   "metadata": {},
   "outputs": [],
   "source": [
    "#Adagrad算法\n",
    "\n",
    "b = -120\n",
    "w = -4\n",
    "lr = 1\n",
    "iteration = 100000\n",
    "\n",
    "b_history = [b]\n",
    "w_history = [w]\n",
    "lr_b=0\n",
    "lr_w=0\n",
    "\n",
    "for i in range(iteration):\n",
    "    b_grad=0.0\n",
    "    w_grad=0.0\n",
    "    for n in range(len(x_data)):\n",
    "        b_grad=b_grad-2.0*(y_data[n]-n-w*x_data[n])*1.0\n",
    "        w_grad= w_grad-2.0*(y_data[n]-n-w*x_data[n])*x_data[n]\n",
    "\n",
    "    lr_b=lr_b+b_grad**2\n",
    "    lr_w=lr_w+w_grad**2\n",
    "    # update param\n",
    "    b -= lr/np.sqrt(lr_b) * b_grad\n",
    "    w -= lr /np.sqrt(lr_w) * w_grad\n",
    "\n",
    "    b_history.append(b)\n",
    "    w_history.append(w)"
   ]
  },
  {
   "cell_type": "code",
   "execution_count": 17,
   "metadata": {},
   "outputs": [
    {
     "name": "stdout",
     "output_type": "stream",
     "text": [
      "[[0.53915042 0.34903488 0.03843145 0.14426878 0.53841836 0.64686191\n",
      "  0.24282131 0.92644152 0.79480804]\n",
      " [0.94431843 0.52575626 0.69394894 0.73583615 0.81354524 0.14945076\n",
      "  0.40607799 0.00099137 0.70962347]\n",
      " [0.06853883 0.68086923 0.71442144 0.09830904 0.47838042 0.73727333\n",
      "  0.63881375 0.64492921 0.76190791]\n",
      " [0.51564745 0.13610964 0.93112896 0.31848879 0.50088601 0.70958903\n",
      "  0.58720404 0.900792   0.98462676]\n",
      " [0.75208321 0.71911714 0.68561743 0.30084467 0.61412581 0.40860602\n",
      "  0.26525767 0.56005667 0.66811104]\n",
      " [0.52380243 0.67043712 0.94201218 0.96111437 0.1944624  0.03098805\n",
      "  0.34865119 0.89578987 0.44795811]]\n",
      "[[ 0.24950591 -0.42586667 -1.52926426 -1.15328433  0.24690532  0.63214366\n",
      "  -0.80318316  1.62533126  1.15771227]\n",
      " [ 1.32090625 -0.09298516  0.47516503  0.61665888  0.87915804 -1.36413472\n",
      "  -0.49725507 -1.86562642  0.52811317]\n",
      " [-1.84083299  0.5708052   0.70294921 -1.72358427 -0.22668867  0.79295044\n",
      "   0.40517142  0.42925693  0.88997273]\n",
      " [-0.38490486 -1.77819643  1.14033682 -1.10867859 -0.43909441  0.32705892\n",
      "  -0.12221907  1.02896918  1.33672843]\n",
      " [ 1.1534153   0.96276035  0.76901919 -1.45626358  0.35555678 -0.83303997\n",
      "  -1.66207631  0.042855    0.66777324]\n",
      " [-0.10554101  0.35720521  1.21423522  1.27451745 -1.14486433 -1.66075274\n",
      "  -0.65827907  1.06836796 -0.34488869]]\n"
     ]
    }
   ],
   "source": [
    "# 数据正规化\n",
    "import numpy as np\n",
    "X = np.random.rand(6,9)\n",
    "print(X)\n",
    "mean_X = np.mean(X,axis = 1)\n",
    "std_X = np.std(X,axis =1)\n",
    "for i in range(len(X)):\n",
    "    for j in range(len(X[i])):\n",
    "        X[i][j] = (X[i][j] - mean_X[i]) / std_X[i]\n",
    "print(X)\n",
    "\n",
    "# 有点问题，计算以后的数不够精确"
   ]
  }
 ],
 "metadata": {
  "kernelspec": {
   "display_name": "Python 3",
   "language": "python",
   "name": "python3"
  },
  "language_info": {
   "codemirror_mode": {
    "name": "ipython",
    "version": 3
   },
   "file_extension": ".py",
   "mimetype": "text/x-python",
   "name": "python",
   "nbconvert_exporter": "python",
   "pygments_lexer": "ipython3",
   "version": "3.7.0"
  }
 },
 "nbformat": 4,
 "nbformat_minor": 2
}
